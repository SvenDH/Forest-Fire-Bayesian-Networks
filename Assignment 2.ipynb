{
 "cells": [
  {
   "cell_type": "code",
   "execution_count": 1,
   "metadata": {
    "collapsed": true
   },
   "outputs": [],
   "source": [
    "import pandas as pd\n",
    "import numpy as np\n",
    "from pgmpy.models import BayesianModel\n",
    "from pgmpy.estimators import ConstraintBasedEstimator, HillClimbSearch, K2Score, BicScore, BdeuScore\n",
    "from scipy import stats"
   ]
  },
  {
   "cell_type": "code",
   "execution_count": 2,
   "metadata": {},
   "outputs": [
    {
     "data": {
      "text/html": [
       "<div>\n",
       "<style>\n",
       "    .dataframe thead tr:only-child th {\n",
       "        text-align: right;\n",
       "    }\n",
       "\n",
       "    .dataframe thead th {\n",
       "        text-align: left;\n",
       "    }\n",
       "\n",
       "    .dataframe tbody tr th {\n",
       "        vertical-align: top;\n",
       "    }\n",
       "</style>\n",
       "<table border=\"1\" class=\"dataframe\">\n",
       "  <thead>\n",
       "    <tr style=\"text-align: right;\">\n",
       "      <th></th>\n",
       "      <th>X</th>\n",
       "      <th>Y</th>\n",
       "      <th>month</th>\n",
       "      <th>day</th>\n",
       "      <th>FFMC</th>\n",
       "      <th>DMC</th>\n",
       "      <th>DC</th>\n",
       "      <th>ISI</th>\n",
       "      <th>temp</th>\n",
       "      <th>RH</th>\n",
       "      <th>wind</th>\n",
       "      <th>rain</th>\n",
       "      <th>area</th>\n",
       "    </tr>\n",
       "  </thead>\n",
       "  <tbody>\n",
       "    <tr>\n",
       "      <th>0</th>\n",
       "      <td>7</td>\n",
       "      <td>5</td>\n",
       "      <td>mar</td>\n",
       "      <td>fri</td>\n",
       "      <td>86.2</td>\n",
       "      <td>26.2</td>\n",
       "      <td>94.3</td>\n",
       "      <td>5.1</td>\n",
       "      <td>8.2</td>\n",
       "      <td>51</td>\n",
       "      <td>6.7</td>\n",
       "      <td>0.0</td>\n",
       "      <td>0.0</td>\n",
       "    </tr>\n",
       "    <tr>\n",
       "      <th>1</th>\n",
       "      <td>7</td>\n",
       "      <td>4</td>\n",
       "      <td>oct</td>\n",
       "      <td>tue</td>\n",
       "      <td>90.6</td>\n",
       "      <td>35.4</td>\n",
       "      <td>669.1</td>\n",
       "      <td>6.7</td>\n",
       "      <td>18.0</td>\n",
       "      <td>33</td>\n",
       "      <td>0.9</td>\n",
       "      <td>0.0</td>\n",
       "      <td>0.0</td>\n",
       "    </tr>\n",
       "    <tr>\n",
       "      <th>2</th>\n",
       "      <td>7</td>\n",
       "      <td>4</td>\n",
       "      <td>oct</td>\n",
       "      <td>sat</td>\n",
       "      <td>90.6</td>\n",
       "      <td>43.7</td>\n",
       "      <td>686.9</td>\n",
       "      <td>6.7</td>\n",
       "      <td>14.6</td>\n",
       "      <td>33</td>\n",
       "      <td>1.3</td>\n",
       "      <td>0.0</td>\n",
       "      <td>0.0</td>\n",
       "    </tr>\n",
       "    <tr>\n",
       "      <th>3</th>\n",
       "      <td>8</td>\n",
       "      <td>6</td>\n",
       "      <td>mar</td>\n",
       "      <td>fri</td>\n",
       "      <td>91.7</td>\n",
       "      <td>33.3</td>\n",
       "      <td>77.5</td>\n",
       "      <td>9.0</td>\n",
       "      <td>8.3</td>\n",
       "      <td>97</td>\n",
       "      <td>4.0</td>\n",
       "      <td>0.2</td>\n",
       "      <td>0.0</td>\n",
       "    </tr>\n",
       "    <tr>\n",
       "      <th>4</th>\n",
       "      <td>8</td>\n",
       "      <td>6</td>\n",
       "      <td>mar</td>\n",
       "      <td>sun</td>\n",
       "      <td>89.3</td>\n",
       "      <td>51.3</td>\n",
       "      <td>102.2</td>\n",
       "      <td>9.6</td>\n",
       "      <td>11.4</td>\n",
       "      <td>99</td>\n",
       "      <td>1.8</td>\n",
       "      <td>0.0</td>\n",
       "      <td>0.0</td>\n",
       "    </tr>\n",
       "  </tbody>\n",
       "</table>\n",
       "</div>"
      ],
      "text/plain": [
       "   X  Y month  day  FFMC   DMC     DC  ISI  temp  RH  wind  rain  area\n",
       "0  7  5   mar  fri  86.2  26.2   94.3  5.1   8.2  51   6.7   0.0   0.0\n",
       "1  7  4   oct  tue  90.6  35.4  669.1  6.7  18.0  33   0.9   0.0   0.0\n",
       "2  7  4   oct  sat  90.6  43.7  686.9  6.7  14.6  33   1.3   0.0   0.0\n",
       "3  8  6   mar  fri  91.7  33.3   77.5  9.0   8.3  97   4.0   0.2   0.0\n",
       "4  8  6   mar  sun  89.3  51.3  102.2  9.6  11.4  99   1.8   0.0   0.0"
      ]
     },
     "execution_count": 2,
     "metadata": {},
     "output_type": "execute_result"
    }
   ],
   "source": [
    "# loading data\n",
    "raw = pd.read_csv(\"forestfires.csv\")\n",
    "data = pd.DataFrame(raw)\n",
    "data.head()"
   ]
  },
  {
   "cell_type": "code",
   "execution_count": 3,
   "metadata": {},
   "outputs": [
    {
     "data": {
      "text/html": [
       "<div>\n",
       "<style>\n",
       "    .dataframe thead tr:only-child th {\n",
       "        text-align: right;\n",
       "    }\n",
       "\n",
       "    .dataframe thead th {\n",
       "        text-align: left;\n",
       "    }\n",
       "\n",
       "    .dataframe tbody tr th {\n",
       "        vertical-align: top;\n",
       "    }\n",
       "</style>\n",
       "<table border=\"1\" class=\"dataframe\">\n",
       "  <thead>\n",
       "    <tr style=\"text-align: right;\">\n",
       "      <th></th>\n",
       "      <th>X</th>\n",
       "      <th>Y</th>\n",
       "      <th>month</th>\n",
       "      <th>day</th>\n",
       "      <th>FFMC</th>\n",
       "      <th>DMC</th>\n",
       "      <th>ISI</th>\n",
       "      <th>temp</th>\n",
       "      <th>RH</th>\n",
       "      <th>wind</th>\n",
       "      <th>area</th>\n",
       "    </tr>\n",
       "  </thead>\n",
       "  <tbody>\n",
       "    <tr>\n",
       "      <th>0</th>\n",
       "      <td>(6, 9]</td>\n",
       "      <td>(3, 6]</td>\n",
       "      <td>spring</td>\n",
       "      <td>workday</td>\n",
       "      <td>(18.699, 91.0]</td>\n",
       "      <td>(1.099, 88.0]</td>\n",
       "      <td>(-0.001, 7.1]</td>\n",
       "      <td>(2.199, 17.1]</td>\n",
       "      <td>(48.0, 100.0]</td>\n",
       "      <td>(4.9, 9.4]</td>\n",
       "      <td>(-1, 0]</td>\n",
       "    </tr>\n",
       "    <tr>\n",
       "      <th>1</th>\n",
       "      <td>(6, 9]</td>\n",
       "      <td>(3, 6]</td>\n",
       "      <td>autumn</td>\n",
       "      <td>workday</td>\n",
       "      <td>(18.699, 91.0]</td>\n",
       "      <td>(1.099, 88.0]</td>\n",
       "      <td>(-0.001, 7.1]</td>\n",
       "      <td>(17.1, 21.4]</td>\n",
       "      <td>(14.999, 35.0]</td>\n",
       "      <td>(0.399, 3.1]</td>\n",
       "      <td>(-1, 0]</td>\n",
       "    </tr>\n",
       "    <tr>\n",
       "      <th>2</th>\n",
       "      <td>(6, 9]</td>\n",
       "      <td>(3, 6]</td>\n",
       "      <td>autumn</td>\n",
       "      <td>weekend</td>\n",
       "      <td>(18.699, 91.0]</td>\n",
       "      <td>(1.099, 88.0]</td>\n",
       "      <td>(-0.001, 7.1]</td>\n",
       "      <td>(2.199, 17.1]</td>\n",
       "      <td>(14.999, 35.0]</td>\n",
       "      <td>(0.399, 3.1]</td>\n",
       "      <td>(-1, 0]</td>\n",
       "    </tr>\n",
       "    <tr>\n",
       "      <th>3</th>\n",
       "      <td>(6, 9]</td>\n",
       "      <td>(3, 6]</td>\n",
       "      <td>spring</td>\n",
       "      <td>workday</td>\n",
       "      <td>(91.0, 92.4]</td>\n",
       "      <td>(1.099, 88.0]</td>\n",
       "      <td>(7.1, 9.6]</td>\n",
       "      <td>(2.199, 17.1]</td>\n",
       "      <td>(48.0, 100.0]</td>\n",
       "      <td>(3.1, 4.9]</td>\n",
       "      <td>(-1, 0]</td>\n",
       "    </tr>\n",
       "    <tr>\n",
       "      <th>4</th>\n",
       "      <td>(6, 9]</td>\n",
       "      <td>(3, 6]</td>\n",
       "      <td>spring</td>\n",
       "      <td>weekend</td>\n",
       "      <td>(18.699, 91.0]</td>\n",
       "      <td>(1.099, 88.0]</td>\n",
       "      <td>(7.1, 9.6]</td>\n",
       "      <td>(2.199, 17.1]</td>\n",
       "      <td>(48.0, 100.0]</td>\n",
       "      <td>(0.399, 3.1]</td>\n",
       "      <td>(-1, 0]</td>\n",
       "    </tr>\n",
       "  </tbody>\n",
       "</table>\n",
       "</div>"
      ],
      "text/plain": [
       "        X       Y   month      day            FFMC            DMC  \\\n",
       "0  (6, 9]  (3, 6]  spring  workday  (18.699, 91.0]  (1.099, 88.0]   \n",
       "1  (6, 9]  (3, 6]  autumn  workday  (18.699, 91.0]  (1.099, 88.0]   \n",
       "2  (6, 9]  (3, 6]  autumn  weekend  (18.699, 91.0]  (1.099, 88.0]   \n",
       "3  (6, 9]  (3, 6]  spring  workday    (91.0, 92.4]  (1.099, 88.0]   \n",
       "4  (6, 9]  (3, 6]  spring  weekend  (18.699, 91.0]  (1.099, 88.0]   \n",
       "\n",
       "             ISI           temp              RH          wind     area  \n",
       "0  (-0.001, 7.1]  (2.199, 17.1]   (48.0, 100.0]    (4.9, 9.4]  (-1, 0]  \n",
       "1  (-0.001, 7.1]   (17.1, 21.4]  (14.999, 35.0]  (0.399, 3.1]  (-1, 0]  \n",
       "2  (-0.001, 7.1]  (2.199, 17.1]  (14.999, 35.0]  (0.399, 3.1]  (-1, 0]  \n",
       "3     (7.1, 9.6]  (2.199, 17.1]   (48.0, 100.0]    (3.1, 4.9]  (-1, 0]  \n",
       "4     (7.1, 9.6]  (2.199, 17.1]   (48.0, 100.0]  (0.399, 3.1]  (-1, 0]  "
      ]
     },
     "execution_count": 3,
     "metadata": {},
     "output_type": "execute_result"
    }
   ],
   "source": [
    "# prepocessing data\n",
    "data_binned = data.copy()\n",
    "data_binned[\"X\"] = pd.cut(data[\"X\"], [0,3,6,9])\n",
    "data_binned[\"Y\"] = pd.cut(data[\"Y\"], [0,3,6,9])\n",
    "data_binned[\"FFMC\"] = pd.qcut(data[\"FFMC\"], 3)#[0,20,40,60,80,100])\n",
    "data_binned[\"DMC\"] = pd.qcut(data[\"DMC\"], 3)#[0,100,200,300])\n",
    "data_binned[\"ISI\"] = pd.qcut(data[\"ISI\"], 3)#[0,20,40,60])\n",
    "data_binned[\"temp\"] = pd.qcut(data[\"temp\"], 3)#[0,20,40])\n",
    "data_binned[\"RH\"] = pd.qcut(data[\"RH\"], 3)#[0,20,40,60,80,100])\n",
    "data_binned[\"wind\"] = pd.qcut(data[\"wind\"], 3)\n",
    "#data_binned[\"rain\"] = pd.cut(data[\"rain\"], 2)\n",
    "data_binned[\"area\"] = pd.cut(data[\"area\"], [-1,0,50,1100])#[-1,0,600,1100])\n",
    "data_binned[\"month\"] = data_binned[\"month\"].map({\"jan\":\"winter\",\"feb\":\"winter\",\"mar\":\"spring\",\"apr\":\"spring\",\"may\":\"spring\",\"jun\":\"summer\",\"jul\":\"summer\",\"aug\":\"summer\",\"sep\":\"autumn\",\"oct\":\"autumn\",\"nov\":\"autumn\",\"dec\":\"winter\"})\n",
    "data_binned[\"day\"] = data_binned[\"day\"].map({\"mon\":\"workday\",\"tue\":\"workday\",\"wed\":\"workday\",\"thu\":\"workday\",\"fri\":\"workday\",\"sat\":\"weekend\",\"sun\":\"weekend\"})\n",
    "data_binned = data_binned.drop('rain', 1)\n",
    "data_binned = data_binned.drop('DC', 1)\n",
    "data_binned.head()"
   ]
  },
  {
   "cell_type": "code",
   "execution_count": 4,
   "metadata": {},
   "outputs": [],
   "source": [
    "est = ConstraintBasedEstimator(data_binned)\n",
    "skel, sep_sets = est.estimate_skeleton(significance_level=0.1)"
   ]
  },
  {
   "cell_type": "code",
   "execution_count": 5,
   "metadata": {},
   "outputs": [
    {
     "data": {
      "text/plain": [
       "[('X', 'Y'),\n",
       " ('month', 'DMC'),\n",
       " ('month', 'ISI'),\n",
       " ('month', 'temp'),\n",
       " ('FFMC', 'DMC'),\n",
       " ('FFMC', 'ISI'),\n",
       " ('DMC', 'ISI'),\n",
       " ('temp', 'RH')]"
      ]
     },
     "execution_count": 5,
     "metadata": {},
     "output_type": "execute_result"
    }
   ],
   "source": [
    "skel.edges()"
   ]
  },
  {
   "cell_type": "code",
   "execution_count": 6,
   "metadata": {},
   "outputs": [
    {
     "data": {
      "text/plain": [
       "[('X', 'Y'),\n",
       " ('Y', 'X'),\n",
       " ('month', 'DMC'),\n",
       " ('month', 'ISI'),\n",
       " ('month', 'temp'),\n",
       " ('FFMC', 'DMC'),\n",
       " ('FFMC', 'ISI'),\n",
       " ('DMC', 'ISI'),\n",
       " ('ISI', 'month'),\n",
       " ('ISI', 'FFMC'),\n",
       " ('ISI', 'DMC'),\n",
       " ('RH', 'temp')]"
      ]
     },
     "execution_count": 6,
     "metadata": {},
     "output_type": "execute_result"
    }
   ],
   "source": [
    "pdag = est.skeleton_to_pdag(skel, sep_sets)\n",
    "pdag.edges()"
   ]
  },
  {
   "cell_type": "code",
   "execution_count": 36,
   "metadata": {},
   "outputs": [],
   "source": [
    "est2 = HillClimbSearch(data_binned, scoring_method=BdeuScore(data_binned))\n",
    "model = est2.estimate()"
   ]
  },
  {
   "cell_type": "code",
   "execution_count": 37,
   "metadata": {},
   "outputs": [
    {
     "data": {
      "text/plain": [
       "['DMC', 'FFMC', 'ISI', 'RH', 'X', 'Y', 'area', 'day', 'month', 'temp', 'wind']"
      ]
     },
     "execution_count": 37,
     "metadata": {},
     "output_type": "execute_result"
    }
   ],
   "source": [
    "sorted(model.nodes())"
   ]
  },
  {
   "cell_type": "code",
   "execution_count": 38,
   "metadata": {},
   "outputs": [
    {
     "data": {
      "text/plain": [
       "[('X', 'Y'),\n",
       " ('month', 'temp'),\n",
       " ('month', 'X'),\n",
       " ('month', 'wind'),\n",
       " ('day', 'FFMC'),\n",
       " ('day', 'area'),\n",
       " ('FFMC', 'DMC'),\n",
       " ('FFMC', 'RH'),\n",
       " ('DMC', 'month'),\n",
       " ('ISI', 'FFMC'),\n",
       " ('ISI', 'month'),\n",
       " ('ISI', 'day'),\n",
       " ('ISI', 'DMC'),\n",
       " ('RH', 'temp')]"
      ]
     },
     "execution_count": 38,
     "metadata": {},
     "output_type": "execute_result"
    }
   ],
   "source": [
    "model.edges()"
   ]
  },
  {
   "cell_type": "code",
   "execution_count": 47,
   "metadata": {},
   "outputs": [
    {
     "data": {
      "text/plain": [
       "-5841.224468344891"
      ]
     },
     "execution_count": 47,
     "metadata": {},
     "output_type": "execute_result"
    }
   ],
   "source": [
    "BdeuScore(data_binned).score(BayesianModel([(\"month\",\"temp\"),\n",
    "                  (\"month\",\"wind\"),\n",
    "                  (\"month\",\"RH\"),\n",
    "                  #(\"month\", \"rain\"),\n",
    "                  (\"month\", \"area\"), \n",
    "                  (\"wind\",\"ISI\"),\n",
    "                  (\"wind\",\"FFMC\"),\n",
    "                  #(\"wind\",\"area\"),\n",
    "                  (\"temp\",\"FFMC\"),\n",
    "                  (\"temp\",\"DMC\"),\n",
    "                  (\"temp\",\"area\"),\n",
    "                  (\"RH\",\"FFMC\"),\n",
    "                  (\"RH\",\"DMC\"),\n",
    "                  #(\"RH\",\"area\"),\n",
    "                  #(\"rain\",\"DMC\"),\n",
    "                  #(\"rain\",\"FFMC\"),\n",
    "                  #(\"rain\",\"area\"),\n",
    "                  (\"FFMC\",\"ISI\"),\n",
    "                  (\"FFMC\",\"area\"),\n",
    "                  (\"DMC\",\"area\"),\n",
    "                  (\"ISI\",\"area\"),\n",
    "                  (\"X\",\"area\"),\n",
    "                  (\"Y\",\"area\"),\n",
    "                  (\"day\",\"area\")\n",
    "                 ]))"
   ]
  },
  {
   "cell_type": "code",
   "execution_count": null,
   "metadata": {
    "collapsed": true
   },
   "outputs": [],
   "source": []
  }
 ],
 "metadata": {
  "kernelspec": {
   "display_name": "Python 3",
   "language": "python",
   "name": "python3"
  },
  "language_info": {
   "codemirror_mode": {
    "name": "ipython",
    "version": 3
   },
   "file_extension": ".py",
   "mimetype": "text/x-python",
   "name": "python",
   "nbconvert_exporter": "python",
   "pygments_lexer": "ipython3",
   "version": "3.6.2"
  }
 },
 "nbformat": 4,
 "nbformat_minor": 2
}
